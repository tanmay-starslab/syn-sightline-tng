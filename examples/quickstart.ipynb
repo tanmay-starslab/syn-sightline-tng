{
  "cells": [
    {
      "cell_type": "markdown",
      "metadata": {},
      "source": [
        "# syn-sightline-tng Quickstart\n\nThis notebook uses a tiny mock snapshot to demonstrate the placeholder API."
      ]
    },
    {
      "cell_type": "code",
      "execution_count": null,
      "metadata": {},
      "outputs": [],
      "source": [
        "import json\n",
        "import numpy as np\n",
        "import syn_sightline_tng as sst\n",
        "\n",
        "with open('examples/mock_data/snapshot_mock.json') as f:\n",
        "    snap = json.load(f)\n",
        "snap['meta']\n"
      ]
    },
    {
      "cell_type": "code",
      "execution_count": null,
      "metadata": {},
      "outputs": [],
      "source": [
        "sl = sst.trace_ray(origin=(0,0,0), direction=(1,0,0), length=10.0, n_samples=51)\n",
        "spec = sst.synthesize_spectrum(sl, lines=['HI 1216'])\n",
        "spec.keys()\n"
      ]
    },
    {
      "cell_type": "code",
      "execution_count": null,
      "metadata": {},
      "outputs": [],
      "source": [
        "# Optional visualization if matplotlib is installed\n",
        "try:\n",
        "    import matplotlib.pyplot as plt\n",
        "    plt.plot(spec['wavelength'], spec['flux'])\n",
        "    plt.xlabel('Angstrom')\n",
        "    plt.ylabel('Flux')\n",
        "    plt.title('Dummy spectrum')\n",
        "    plt.show()\n",
        "except Exception as e:\n",
        "    print('Plot skipped:', e)\n"
      ]
    }
  ],
  "metadata": {
    "kernelspec": {
      "display_name": "Python 3",
      "language": "python",
      "name": "python3"
    },
    "language_info": {
      "name": "python",
      "version": "3.10"
    }
  },
  "nbformat": 4,
  "nbformat_minor": 5
}
